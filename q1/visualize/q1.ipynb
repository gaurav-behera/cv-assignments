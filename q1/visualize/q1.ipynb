{
 "cells": [
  {
   "cell_type": "markdown",
   "metadata": {},
   "source": [
    "# Oriented Bounding Boxes through Faster R-CNN"
   ]
  },
  {
   "cell_type": "code",
   "execution_count": 18,
   "metadata": {},
   "outputs": [],
   "source": [
    "import numpy as np\n",
    "import matplotlib.pyplot as plt\n",
    "import torch\n",
    "import json\n",
    "import os\n",
    "import sys\n",
    "import glob\n",
    "import cv2\n",
    "import imageio.v2 as imageio\n",
    "from IPython.display import display, Image"
   ]
  },
  {
   "cell_type": "markdown",
   "metadata": {},
   "source": [
    "## Dataset Visualization"
   ]
  },
  {
   "cell_type": "code",
   "execution_count": 19,
   "metadata": {},
   "outputs": [],
   "source": [
    "dataset_folder = \"./dataset/files/\"\n",
    "img_dir = os.path.join(dataset_folder, \"img\")\n",
    "annots_dir = os.path.join(dataset_folder, \"annots\")"
   ]
  },
  {
   "cell_type": "code",
   "execution_count": 20,
   "metadata": {},
   "outputs": [],
   "source": [
    "images_path = glob.glob(os.path.join(img_dir, \"*.jpg\"))\n",
    "annotations_path = [os.path.join(annots_dir, os.path.basename(img) + \".json\") for img in images_path]"
   ]
  },
  {
   "cell_type": "code",
   "execution_count": null,
   "metadata": {},
   "outputs": [],
   "source": [
    "fig, axs = plt.subplots(4, 4, figsize=(10, 10), constrained_layout=True)\n",
    "for i, (img_path, annot_path) in enumerate(zip(images_path, annotations_path)):\n",
    "    if i == 16:\n",
    "        break\n",
    "    img = plt.imread(img_path)\n",
    "    img_bgr = cv2.cvtColor(img, cv2.COLOR_RGB2BGR)\n",
    "    with open(annot_path, \"r\") as f:\n",
    "        annot = json.load(f)\n",
    "        xc = [detec[\"obb\"][\"xc\"] for detec in annot[\"objects\"]]\n",
    "        yc = [detec[\"obb\"][\"yc\"] for detec in annot[\"objects\"]]\n",
    "        w = [detec[\"obb\"][\"w\"] for detec in annot[\"objects\"]]\n",
    "        h = [detec[\"obb\"][\"h\"] for detec in annot[\"objects\"]]\n",
    "        theta = [detec[\"obb\"][\"theta\"] for detec in annot[\"objects\"]]\n",
    "        \n",
    "        for x, y, width, height, angle in zip(xc, yc, w, h, theta):\n",
    "            rect = cv2.boxPoints(((x, y), (width, height), angle))\n",
    "            rect = np.intp(rect)\n",
    "            cv2.drawContours(img_bgr, [rect], 0, (0, 255, 0), 4)\n",
    "    \n",
    "    img_rgb = cv2.cvtColor(img_bgr, cv2.COLOR_BGR2RGB)\n",
    "    axs[i//4, i%4].imshow(img_rgb)\n",
    "    axs[i//4, i%4].axis(\"off\")\n",
    "\n",
    "plt.suptitle(\"Dataset samples with annotations\")\n",
    "plt.show()\n"
   ]
  },
  {
   "cell_type": "markdown",
   "metadata": {},
   "source": [
    "## Understanding Faster RCNN"
   ]
  },
  {
   "cell_type": "markdown",
   "metadata": {},
   "source": [
    "### Changes made in code\n",
    "- `dataset/st.py` - train-val-test split as 60-20-20\n",
    "- added `val` as a parameter to the rpn class to visualize the validation set\n",
    "- added separate loop for running on validation set in each epoch in `train.py`\n",
    "- Images get resized in preprocessing before RPN so boxes are saved in 0,1 range"
   ]
  },
  {
   "cell_type": "markdown",
   "metadata": {},
   "source": [
    "### Hyperparameters\n",
    "\n",
    "- `rpn_post_nms_top_n_train` = 2000\n",
    "- `rpn_fg_iou_thresh` = 0.7\n",
    "-  `rpn_positive_fraction` = 0.5"
   ]
  },
  {
   "cell_type": "code",
   "execution_count": 22,
   "metadata": {},
   "outputs": [],
   "source": [
    "def load_arrays(filename):\n",
    "    \"\"\"Loads multiple appended NumPy arrays from a file.\"\"\"\n",
    "    arrays = []\n",
    "    with open(filename, \"rb\") as f:\n",
    "        while True:\n",
    "            try:\n",
    "                arrays.append(np.load(f, allow_pickle=False))\n",
    "            except EOFError:\n",
    "                break \n",
    "    return arrays"
   ]
  },
  {
   "cell_type": "code",
   "execution_count": 23,
   "metadata": {},
   "outputs": [],
   "source": [
    "epochs = 10\n",
    "num_features = 5\n",
    "num_images = 4\n",
    "images_path = 'outputs/images/'"
   ]
  },
  {
   "cell_type": "markdown",
   "metadata": {},
   "source": [
    "### Objectness Score"
   ]
  },
  {
   "cell_type": "code",
   "execution_count": 24,
   "metadata": {},
   "outputs": [
    {
     "ename": "FileNotFoundError",
     "evalue": "[Errno 2] No such file or directory: 'outputs/2/objectness/feature_0.npy'",
     "output_type": "error",
     "traceback": [
      "\u001b[0;31m---------------------------------------------------------------------------\u001b[0m",
      "\u001b[0;31mFileNotFoundError\u001b[0m                         Traceback (most recent call last)",
      "Cell \u001b[0;32mIn[24], line 9\u001b[0m\n\u001b[1;32m      7\u001b[0m features \u001b[38;5;241m=\u001b[39m []\n\u001b[1;32m      8\u001b[0m \u001b[38;5;28;01mfor\u001b[39;00m i \u001b[38;5;129;01min\u001b[39;00m \u001b[38;5;28mrange\u001b[39m(num_features):\n\u001b[0;32m----> 9\u001b[0m     features\u001b[38;5;241m.\u001b[39mappend(\u001b[43mload_arrays\u001b[49m\u001b[43m(\u001b[49m\u001b[38;5;124;43mf\u001b[39;49m\u001b[38;5;124;43m\"\u001b[39;49m\u001b[38;5;132;43;01m{\u001b[39;49;00m\u001b[43moutput_folder\u001b[49m\u001b[38;5;132;43;01m}\u001b[39;49;00m\u001b[38;5;124;43m/feature_\u001b[39;49m\u001b[38;5;132;43;01m{\u001b[39;49;00m\u001b[43mi\u001b[49m\u001b[38;5;132;43;01m}\u001b[39;49;00m\u001b[38;5;124;43m.npy\u001b[39;49m\u001b[38;5;124;43m\"\u001b[39;49m\u001b[43m)\u001b[49m)\n\u001b[1;32m     10\u001b[0m \u001b[38;5;28;01mfor\u001b[39;00m img_idx \u001b[38;5;129;01min\u001b[39;00m \u001b[38;5;28mrange\u001b[39m(num_images):\n\u001b[1;32m     11\u001b[0m     \u001b[38;5;28;01mfor\u001b[39;00m epoch \u001b[38;5;129;01min\u001b[39;00m \u001b[38;5;28mrange\u001b[39m(epochs):\n\u001b[1;32m     12\u001b[0m         \u001b[38;5;66;03m# make plots and save them\u001b[39;00m\n",
      "Cell \u001b[0;32mIn[22], line 4\u001b[0m, in \u001b[0;36mload_arrays\u001b[0;34m(filename)\u001b[0m\n\u001b[1;32m      2\u001b[0m \u001b[38;5;250m\u001b[39m\u001b[38;5;124;03m\"\"\"Loads multiple appended NumPy arrays from a file.\"\"\"\u001b[39;00m\n\u001b[1;32m      3\u001b[0m arrays \u001b[38;5;241m=\u001b[39m []\n\u001b[0;32m----> 4\u001b[0m \u001b[38;5;28;01mwith\u001b[39;00m \u001b[38;5;28;43mopen\u001b[39;49m\u001b[43m(\u001b[49m\u001b[43mfilename\u001b[49m\u001b[43m,\u001b[49m\u001b[43m \u001b[49m\u001b[38;5;124;43m\"\u001b[39;49m\u001b[38;5;124;43mrb\u001b[39;49m\u001b[38;5;124;43m\"\u001b[39;49m\u001b[43m)\u001b[49m \u001b[38;5;28;01mas\u001b[39;00m f:\n\u001b[1;32m      5\u001b[0m     \u001b[38;5;28;01mwhile\u001b[39;00m \u001b[38;5;28;01mTrue\u001b[39;00m:\n\u001b[1;32m      6\u001b[0m         \u001b[38;5;28;01mtry\u001b[39;00m:\n",
      "File \u001b[0;32m~/miniconda3/envs/cv/lib/python3.11/site-packages/IPython/core/interactiveshell.py:324\u001b[0m, in \u001b[0;36m_modified_open\u001b[0;34m(file, *args, **kwargs)\u001b[0m\n\u001b[1;32m    317\u001b[0m \u001b[38;5;28;01mif\u001b[39;00m file \u001b[38;5;129;01min\u001b[39;00m {\u001b[38;5;241m0\u001b[39m, \u001b[38;5;241m1\u001b[39m, \u001b[38;5;241m2\u001b[39m}:\n\u001b[1;32m    318\u001b[0m     \u001b[38;5;28;01mraise\u001b[39;00m \u001b[38;5;167;01mValueError\u001b[39;00m(\n\u001b[1;32m    319\u001b[0m         \u001b[38;5;124mf\u001b[39m\u001b[38;5;124m\"\u001b[39m\u001b[38;5;124mIPython won\u001b[39m\u001b[38;5;124m'\u001b[39m\u001b[38;5;124mt let you open fd=\u001b[39m\u001b[38;5;132;01m{\u001b[39;00mfile\u001b[38;5;132;01m}\u001b[39;00m\u001b[38;5;124m by default \u001b[39m\u001b[38;5;124m\"\u001b[39m\n\u001b[1;32m    320\u001b[0m         \u001b[38;5;124m\"\u001b[39m\u001b[38;5;124mas it is likely to crash IPython. If you know what you are doing, \u001b[39m\u001b[38;5;124m\"\u001b[39m\n\u001b[1;32m    321\u001b[0m         \u001b[38;5;124m\"\u001b[39m\u001b[38;5;124myou can use builtins\u001b[39m\u001b[38;5;124m'\u001b[39m\u001b[38;5;124m open.\u001b[39m\u001b[38;5;124m\"\u001b[39m\n\u001b[1;32m    322\u001b[0m     )\n\u001b[0;32m--> 324\u001b[0m \u001b[38;5;28;01mreturn\u001b[39;00m \u001b[43mio_open\u001b[49m\u001b[43m(\u001b[49m\u001b[43mfile\u001b[49m\u001b[43m,\u001b[49m\u001b[43m \u001b[49m\u001b[38;5;241;43m*\u001b[39;49m\u001b[43margs\u001b[49m\u001b[43m,\u001b[49m\u001b[43m \u001b[49m\u001b[38;5;241;43m*\u001b[39;49m\u001b[38;5;241;43m*\u001b[39;49m\u001b[43mkwargs\u001b[49m\u001b[43m)\u001b[49m\n",
      "\u001b[0;31mFileNotFoundError\u001b[0m: [Errno 2] No such file or directory: 'outputs/2/objectness/feature_0.npy'"
     ]
    }
   ],
   "source": [
    "for hyperparam_idx in range(1,4):\n",
    "    output_folder = f\"outputs/{hyperparam_idx}/objectness\"\n",
    "    os.makedirs(f\"{output_folder}/images\", exist_ok=True)\n",
    "    os.makedirs(f\"{output_folder}/gifs\", exist_ok=True)\n",
    "    \n",
    "    # read all the files\n",
    "    features = []\n",
    "    for i in range(num_features):\n",
    "        features.append(load_arrays(f\"{output_folder}/feature_{i}.npy\"))\n",
    "    for img_idx in range(num_images):\n",
    "        for epoch in range(epochs):\n",
    "            # make plots and save them\n",
    "            fig, axs = plt.subplots(1, 5, figsize=(15, 3), constrained_layout=True)\n",
    "            for i in range(5):\n",
    "                img = features[i][num_images*epoch + img_idx]\n",
    "                img = (img - img.min()) / (img.max() - img.min())\n",
    "                axs[i].imshow(img)\n",
    "                axs[i].axis(\"off\")\n",
    "                axs[i].set_title(f\"Feature {i}\")\n",
    "            plt.suptitle(f\"Hyperparams {hyperparam_idx} - Image {img_idx+1} - Epoch {epoch+1}\")\n",
    "            plt.savefig(f\"{output_folder}/images/epoch_{epoch}_img_{img_idx}.png\")\n",
    "            plt.close()\n",
    "            \n",
    "        # make gifs\n",
    "        with imageio.get_writer(f\"{output_folder}/gifs/img_{img_idx}.gif\", mode='I') as writer:\n",
    "            for epoch in range(epochs):\n",
    "                writer.append_data(imageio.imread(f\"{output_folder}/images/epoch_{epoch}_img_{img_idx}.png\"))\n",
    "    \n",
    "    # delete the images\n",
    "    for img_idx in range(4):\n",
    "        for epoch in range(epochs):\n",
    "            os.remove(f\"{output_folder}/images/epoch_{epoch}_img_{img_idx}.png\")\n",
    "    os.rmdir(f\"{output_folder}/images\")\n",
    "    "
   ]
  },
  {
   "cell_type": "markdown",
   "metadata": {},
   "source": [
    "![](outputs/1/objectness/gifs/img_0.gif)\n",
    "![](outputs/1/objectness/gifs/img_1.gif)\n",
    "![](outputs/1/objectness/gifs/img_2.gif)\n",
    "![](outputs/1/objectness/gifs/img_3.gif)\n",
    "![](outputs/2/objectness/gifs/img_0.gif)\n",
    "![](outputs/2/objectness/gifs/img_1.gif)\n",
    "![](outputs/2/objectness/gifs/img_2.gif)\n",
    "![](outputs/2/objectness/gifs/img_3.gif)\n",
    "![](outputs/3/objectness/gifs/img_0.gif)\n",
    "![](outputs/3/objectness/gifs/img_1.gif)\n",
    "![](outputs/3/objectness/gifs/img_2.gif)\n",
    "![](outputs/3/objectness/gifs/img_3.gif)\n",
    "![](outputs/4/objectness/gifs/img_0.gif)\n",
    "![](outputs/4/objectness/gifs/img_1.gif)\n",
    "![](outputs/4/objectness/gifs/img_2.gif)\n",
    "![](outputs/4/objectness/gifs/img_3.gif)"
   ]
  },
  {
   "cell_type": "markdown",
   "metadata": {},
   "source": [
    "### Object Proposals"
   ]
  },
  {
   "cell_type": "code",
   "execution_count": null,
   "metadata": {},
   "outputs": [
    {
     "ename": "FileNotFoundError",
     "evalue": "[Errno 2] No such file or directory: 'outputs/2/object_proposals/boxes.npy'",
     "output_type": "error",
     "traceback": [
      "\u001b[0;31m---------------------------------------------------------------------------\u001b[0m",
      "\u001b[0;31mFileNotFoundError\u001b[0m                         Traceback (most recent call last)",
      "Cell \u001b[0;32mIn[10], line 7\u001b[0m\n\u001b[1;32m      4\u001b[0m os\u001b[38;5;241m.\u001b[39mmakedirs(\u001b[38;5;124mf\u001b[39m\u001b[38;5;124m\"\u001b[39m\u001b[38;5;132;01m{\u001b[39;00moutput_folder\u001b[38;5;132;01m}\u001b[39;00m\u001b[38;5;124m/images\u001b[39m\u001b[38;5;124m\"\u001b[39m, exist_ok\u001b[38;5;241m=\u001b[39m\u001b[38;5;28;01mTrue\u001b[39;00m)\n\u001b[1;32m      5\u001b[0m os\u001b[38;5;241m.\u001b[39mmakedirs(\u001b[38;5;124mf\u001b[39m\u001b[38;5;124m\"\u001b[39m\u001b[38;5;132;01m{\u001b[39;00moutput_folder\u001b[38;5;132;01m}\u001b[39;00m\u001b[38;5;124m/gifs\u001b[39m\u001b[38;5;124m\"\u001b[39m, exist_ok\u001b[38;5;241m=\u001b[39m\u001b[38;5;28;01mTrue\u001b[39;00m)\n\u001b[0;32m----> 7\u001b[0m list_boxes \u001b[38;5;241m=\u001b[39m \u001b[43mload_arrays\u001b[49m\u001b[43m(\u001b[49m\u001b[43moutput_file\u001b[49m\u001b[43m)\u001b[49m\n\u001b[1;32m      9\u001b[0m \u001b[38;5;28;01mfor\u001b[39;00m img_idx \u001b[38;5;129;01min\u001b[39;00m \u001b[38;5;28mrange\u001b[39m(num_images):\n\u001b[1;32m     10\u001b[0m     \u001b[38;5;28;01mfor\u001b[39;00m epoch \u001b[38;5;129;01min\u001b[39;00m \u001b[38;5;28mrange\u001b[39m(epochs):\n\u001b[1;32m     11\u001b[0m         \u001b[38;5;66;03m# make plots and save them\u001b[39;00m\n",
      "Cell \u001b[0;32mIn[2], line 4\u001b[0m, in \u001b[0;36mload_arrays\u001b[0;34m(filename)\u001b[0m\n\u001b[1;32m      2\u001b[0m \u001b[38;5;250m\u001b[39m\u001b[38;5;124;03m\"\"\"Loads multiple appended NumPy arrays from a file.\"\"\"\u001b[39;00m\n\u001b[1;32m      3\u001b[0m arrays \u001b[38;5;241m=\u001b[39m []\n\u001b[0;32m----> 4\u001b[0m \u001b[38;5;28;01mwith\u001b[39;00m \u001b[38;5;28;43mopen\u001b[39;49m\u001b[43m(\u001b[49m\u001b[43mfilename\u001b[49m\u001b[43m,\u001b[49m\u001b[43m \u001b[49m\u001b[38;5;124;43m\"\u001b[39;49m\u001b[38;5;124;43mrb\u001b[39;49m\u001b[38;5;124;43m\"\u001b[39;49m\u001b[43m)\u001b[49m \u001b[38;5;28;01mas\u001b[39;00m f:\n\u001b[1;32m      5\u001b[0m     \u001b[38;5;28;01mwhile\u001b[39;00m \u001b[38;5;28;01mTrue\u001b[39;00m:\n\u001b[1;32m      6\u001b[0m         \u001b[38;5;28;01mtry\u001b[39;00m:\n",
      "File \u001b[0;32m~/miniconda3/envs/cv/lib/python3.11/site-packages/IPython/core/interactiveshell.py:324\u001b[0m, in \u001b[0;36m_modified_open\u001b[0;34m(file, *args, **kwargs)\u001b[0m\n\u001b[1;32m    317\u001b[0m \u001b[38;5;28;01mif\u001b[39;00m file \u001b[38;5;129;01min\u001b[39;00m {\u001b[38;5;241m0\u001b[39m, \u001b[38;5;241m1\u001b[39m, \u001b[38;5;241m2\u001b[39m}:\n\u001b[1;32m    318\u001b[0m     \u001b[38;5;28;01mraise\u001b[39;00m \u001b[38;5;167;01mValueError\u001b[39;00m(\n\u001b[1;32m    319\u001b[0m         \u001b[38;5;124mf\u001b[39m\u001b[38;5;124m\"\u001b[39m\u001b[38;5;124mIPython won\u001b[39m\u001b[38;5;124m'\u001b[39m\u001b[38;5;124mt let you open fd=\u001b[39m\u001b[38;5;132;01m{\u001b[39;00mfile\u001b[38;5;132;01m}\u001b[39;00m\u001b[38;5;124m by default \u001b[39m\u001b[38;5;124m\"\u001b[39m\n\u001b[1;32m    320\u001b[0m         \u001b[38;5;124m\"\u001b[39m\u001b[38;5;124mas it is likely to crash IPython. If you know what you are doing, \u001b[39m\u001b[38;5;124m\"\u001b[39m\n\u001b[1;32m    321\u001b[0m         \u001b[38;5;124m\"\u001b[39m\u001b[38;5;124myou can use builtins\u001b[39m\u001b[38;5;124m'\u001b[39m\u001b[38;5;124m open.\u001b[39m\u001b[38;5;124m\"\u001b[39m\n\u001b[1;32m    322\u001b[0m     )\n\u001b[0;32m--> 324\u001b[0m \u001b[38;5;28;01mreturn\u001b[39;00m \u001b[43mio_open\u001b[49m\u001b[43m(\u001b[49m\u001b[43mfile\u001b[49m\u001b[43m,\u001b[49m\u001b[43m \u001b[49m\u001b[38;5;241;43m*\u001b[39;49m\u001b[43margs\u001b[49m\u001b[43m,\u001b[49m\u001b[43m \u001b[49m\u001b[38;5;241;43m*\u001b[39;49m\u001b[38;5;241;43m*\u001b[39;49m\u001b[43mkwargs\u001b[49m\u001b[43m)\u001b[49m\n",
      "\u001b[0;31mFileNotFoundError\u001b[0m: [Errno 2] No such file or directory: 'outputs/2/object_proposals/boxes.npy'"
     ]
    }
   ],
   "source": [
    "for hyperparam_idx in range(1,4):\n",
    "    output_folder = f\"outputs/{hyperparam_idx}/object_proposals\"\n",
    "    output_file = f\"{output_folder}/boxes.npy\"\n",
    "    os.makedirs(f\"{output_folder}/images\", exist_ok=True)\n",
    "    os.makedirs(f\"{output_folder}/gifs\", exist_ok=True)\n",
    "    \n",
    "    list_boxes = load_arrays(output_file)\n",
    "\n",
    "    for img_idx in range(num_images):\n",
    "        for epoch in range(epochs):\n",
    "            # make plots and save them\n",
    "            fig, axs = plt.subplots(1,1, figsize=(8, 8), constrained_layout=True)\n",
    "            img = plt.imread(images_path+\"image_\"+str(img_idx)+\".jpg\")\n",
    "            width, height = img.shape[1], img.shape[0]\n",
    "            img_bgr = cv2.cvtColor(img, cv2.COLOR_RGB2BGR)\n",
    "            for box in list_boxes[epoch*num_images+img_idx]:\n",
    "                box[0], box[1], box[2], box[3] = box[0] * width, box[1] * height, box[2] * width, box[3] * height\n",
    "                box = [int(x) for x in box]\n",
    "                rect = cv2.rectangle(img_bgr, (box[0], box[1]), (box[2], box[3]), (0, 255, 0), 2)\n",
    "            img_rgb = cv2.cvtColor(img_bgr, cv2.COLOR_BGR2RGB)\n",
    "            axs.imshow(img_rgb)\n",
    "            axs.axis(\"off\")\n",
    "            plt.suptitle(f\"Hyperparams {hyperparam_idx} - Image {img_idx+1} - Epoch {epoch+1}\")\n",
    "            plt.savefig(f\"{output_folder}/images/epoch_{epoch}_img_{img_idx}.png\")\n",
    "            plt.close()\n",
    "            \n",
    "        # make gifs\n",
    "        with imageio.get_writer(f\"{output_folder}/gifs/img_{img_idx}.gif\", mode='I') as writer:\n",
    "            for epoch in range(epochs):\n",
    "                writer.append_data(imageio.imread(f\"{output_folder}/images/epoch_{epoch}_img_{img_idx}.png\"))\n",
    "                \n",
    "    # delete the images\n",
    "    for img_idx in range(4):\n",
    "        for epoch in range(epochs):\n",
    "            os.remove(f\"{output_folder}/images/epoch_{epoch}_img_{img_idx}.png\")\n",
    "    os.rmdir(f\"{output_folder}/images\")\n"
   ]
  },
  {
   "cell_type": "markdown",
   "metadata": {},
   "source": [
    "| ![](outputs/1/object_proposals/gifs/img_0.gif) | ![](outputs/1/object_proposals/gifs/img_1.gif) |\n",
    "|---------|---------|\n",
    "| ![](outputs/1/object_proposals/gifs/img_2.gif) | ![](outputs/1/object_proposals/gifs/img_3.gif) |\n",
    "\n",
    "| ![](outputs/2/object_proposals/gifs/img_0.gif) | ![](outputs/2/object_proposals/gifs/img_1.gif) |\n",
    "|---------|---------|\n",
    "| ![](outputs/2/object_proposals/gifs/img_2.gif) | ![](outputs/2/object_proposals/gifs/img_3.gif) |\n",
    "\n",
    "| ![](outputs/3/object_proposals/gifs/img_0.gif) | ![](outputs/3/object_proposals/gifs/img_1.gif) |\n",
    "|---------|---------|\n",
    "| ![](outputs/3/object_proposals/gifs/img_2.gif) | ![](outputs/3/object_proposals/gifs/img_3.gif) |\n",
    "\n",
    "| ![](outputs/4/object_proposals/gifs/img_0.gif) | ![](outputs/4/object_proposals/gifs/img_1.gif) |\n",
    "|---------|---------|\n",
    "| ![](outputs/4/object_proposals/gifs/img_2.gif) | ![](outputs/4/object_proposals/gifs/img_3.gif) |"
   ]
  },
  {
   "cell_type": "markdown",
   "metadata": {},
   "source": [
    "### Bounding Box Assignments"
   ]
  },
  {
   "cell_type": "code",
   "execution_count": null,
   "metadata": {},
   "outputs": [],
   "source": [
    "for hyperparam_idx in range(1,4):\n",
    "    output_folder = f\"outputs/{hyperparam_idx}/bb_assignments\"\n",
    "    background_file = f\"{output_folder}/background_boxes.npy\"\n",
    "    foreground_file = f\"{output_folder}/foreground_boxes.npy\"\n",
    "    ignore_file = f\"{output_folder}/ignore_boxes.npy\"\n",
    "    os.makedirs(f\"{output_folder}/images\", exist_ok=True)\n",
    "    \n",
    "    background_boxes = load_arrays(background_file)\n",
    "    foreground_boxes = load_arrays(foreground_file)\n",
    "    ignore_boxes = load_arrays(ignore_file)\n",
    "    \n",
    "    for img_idx in range(num_images):\n",
    "        bg_box = background_boxes[img_idx]\n",
    "        fg_box = foreground_boxes[img_idx]\n",
    "        ig_box = ignore_boxes[img_idx]\n",
    "        # print(bg_box)\n",
    "        \n",
    "        # take boxes at equal intervals but total boxes should be 10\n",
    "        bg_box = bg_box[::len(bg_box)//10]\n",
    "        fg_box = fg_box[::len(fg_box)//10]\n",
    "        ig_box = ig_box[::len(ig_box)//10]\n",
    "        \n",
    "        # make plots and save them\n",
    "        fig, axs = plt.subplots(1,3, figsize=(15, 5), constrained_layout=True)\n",
    "        img = plt.imread(images_path+\"image_\"+str(img_idx)+\".jpg\")\n",
    "        width, height = img.shape[1], img.shape[0]\n",
    "        img_bgr = cv2.cvtColor(img, cv2.COLOR_RGB2BGR)\n",
    "        img_bgr_bg = img_bgr.copy()\n",
    "        img_bgr_fg = img_bgr.copy()\n",
    "        img_bgr_ig = img_bgr.copy()\n",
    "        \n",
    "        for box in bg_box:\n",
    "            box[0], box[1], box[2], box[3] = box[0] * width, box[1] * height, box[2] * width, box[3] * height\n",
    "            box = [int(x) for x in box]\n",
    "            rect = cv2.rectangle(img_bgr_bg, (box[0], box[1]), (box[2], box[3]), (0, 0, 255), 2)\n",
    "        img_rgb_bg = cv2.cvtColor(img_bgr_bg, cv2.COLOR_BGR2RGB)\n",
    "        axs[0].imshow(img_rgb_bg)\n",
    "        axs[0].axis(\"off\")\n",
    "        axs[0].set_title(\"Background\")\n",
    "        \n",
    "        for box in fg_box:\n",
    "            box[0], box[1], box[2], box[3] = box[0] * width, box[1] * height, box[2] * width, box[3] * height\n",
    "            box = [int(x) for x in box]\n",
    "            rect = cv2.rectangle(img_bgr_fg, (box[0], box[1]), (box[2], box[3]), (0, 255, 0), 2)\n",
    "        img_rgb_fg = cv2.cvtColor(img_bgr_fg, cv2.COLOR_BGR2RGB)\n",
    "        axs[1].imshow(img_rgb_fg)\n",
    "        axs[1].axis(\"off\")\n",
    "        axs[1].set_title(\"Foreground\")\n",
    "        \n",
    "        for box in ig_box:\n",
    "            box[0], box[1], box[2], box[3] = box[0] * width, box[1] * height, box[2] * width, box[3] * height\n",
    "            box = [int(x) for x in box]\n",
    "            rect = cv2.rectangle(img_bgr_ig, (box[0], box[1]), (box[2], box[3]), (255, 0, 0), 2)\n",
    "        img_rgb_ig = cv2.cvtColor(img_bgr_ig, cv2.COLOR_BGR2RGB)\n",
    "        axs[2].imshow(img_rgb_ig)\n",
    "        axs[2].axis(\"off\")\n",
    "        plt.suptitle(f\"Hyperparams {hyperparam_idx} - Image {img_idx+1}\")\n",
    "        plt.savefig(f\"{output_folder}/images/img_{img_idx}.png\")\n",
    "        plt.close()\n",
    "    break"
   ]
  },
  {
   "cell_type": "markdown",
   "metadata": {},
   "source": [
    "![](outputs/1/bb_assignments/images/img_0.png)\n",
    "![](outputs/1/bb_assignments/images/img_1.png)\n",
    "![](outputs/1/bb_assignments/images/img_2.png)\n",
    "![](outputs/1/bb_assignments/images/img_3.png)\n",
    "![](outputs/2/bb_assignments/images/img_0.png)\n",
    "![](outputs/2/bb_assignments/images/img_1.png)\n",
    "![](outputs/2/bb_assignments/images/img_2.png)\n",
    "![](outputs/2/bb_assignments/images/img_3.png)\n",
    "![](outputs/3/bb_assignments/images/img_0.png)\n",
    "![](outputs/3/bb_assignments/images/img_1.png)\n",
    "![](outputs/3/bb_assignments/images/img_2.png)\n",
    "![](outputs/3/bb_assignments/images/img_3.png)"
   ]
  },
  {
   "cell_type": "markdown",
   "metadata": {},
   "source": [
    "### ROI Head Output"
   ]
  },
  {
   "cell_type": "code",
   "execution_count": null,
   "metadata": {},
   "outputs": [],
   "source": [
    "for hyperparam_idx in range(1,4):\n",
    "    output_folder = f\"outputs/{hyperparam_idx}/roi_head_outputs\"\n",
    "    predictions_file = f\"{output_folder}/predictions.npy\"\n",
    "    proposals_file = f\"{output_folder}/proposals.npy\"\n",
    "    scores_file = f\"{output_folder}/scores.npy\"\n",
    "    os.makedirs(f\"{output_folder}/images\", exist_ok=True)\n",
    "    os.makedirs(f\"{output_folder}/gifs\", exist_ok=True)\n",
    "    \n",
    "    predictions = load_arrays(predictions_file)\n",
    "    proposals = load_arrays(proposals_file)\n",
    "    scores = load_arrays(scores_file)\n",
    "    \n",
    "    num_boxes = len(proposals[0])\n",
    "    \n",
    "    for img_idx in range(num_images):\n",
    "        for epoch in range(epochs):\n",
    "            # make plots and save them\n",
    "            fig, axs = plt.subplots(1, 1, figsize=(8, 8), constrained_layout=True)\n",
    "            img = plt.imread(images_path+\"image_\"+str(img_idx)+\".jpg\")\n",
    "            width, height = img.shape[1], img.shape[0]\n",
    "            img_bgr = cv2.cvtColor(img, cv2.COLOR_RGB2BGR)\n",
    "\n",
    "            # show proposal and prediction with score on top of each prediction\n",
    "            for i in range(0,num_boxes,100):\n",
    "                box = proposals[epoch*num_images+img_idx][i]\n",
    "                box[0], box[1], box[2], box[3] = box[0] * width, box[1] * height, box[2] * width, box[3] * height\n",
    "                box = [int(x) for x in box]\n",
    "                rect = cv2.rectangle(img_bgr, (box[0], box[1]), (box[2], box[3]), (255, 0, 0), 2)\n",
    "                cv2.putText(img_bgr, f\"{scores[epoch*num_images+img_idx][i][0]:.2f}\", (box[0], box[1]-5), cv2.FONT_HERSHEY_SIMPLEX, 0.5, (255, 255, 255), 2)\n",
    "                \n",
    "                box_preds = predictions[epoch*num_images+img_idx][i]\n",
    "                box_preds[0], box_preds[1], box_preds[2], box_preds[3] = box_preds[0] * width, box_preds[1] * height, box_preds[2] * width, box_preds[3] * height\n",
    "                box_preds = [int(box[i] + box_preds[i]) for i in range(4)]\n",
    "                rect = cv2.rectangle(img_bgr, (box_preds[0], box_preds[1]), (box_preds[2], box_preds[3]), (0, 255, 0), 2)\n",
    "                \n",
    "            img_rgb = cv2.cvtColor(img_bgr, cv2.COLOR_BGR2RGB)\n",
    "            axs.imshow(img_rgb)\n",
    "            axs.axis(\"off\")\n",
    "            plt.suptitle(f\"Hyperparams {hyperparam_idx} - Image {img_idx+1} - Epoch {epoch+1}\")\n",
    "            plt.savefig(f\"{output_folder}/images/epoch_{epoch}_img_{img_idx}.png\")\n",
    "            plt.close()\n",
    "            \n",
    "        # make gifs\n",
    "        with imageio.get_writer(f\"{output_folder}/gifs/img_{img_idx}.gif\", mode='I') as writer:\n",
    "            for epoch in range(epochs):\n",
    "                writer.append_data(imageio.imread(f\"{output_folder}/images/epoch_{epoch}_img_{img_idx}.png\"))\n",
    "                \n",
    "    # delete the images\n",
    "    for img_idx in range(4):\n",
    "        for epoch in range(epochs):\n",
    "            os.remove(f\"{output_folder}/images/epoch_{epoch}_img_{img_idx}.png\")\n",
    "    os.rmdir(f\"{output_folder}/images\")\n"
   ]
  },
  {
   "cell_type": "markdown",
   "metadata": {},
   "source": [
    "| ![](outputs/1/roi_head_outputs/gifs/img_0.gif) | ![](outputs/1/roi_head_outputs/gifs/img_1.gif) |\n",
    "|---------|---------|\n",
    "| ![](outputs/1/roi_head_outputs/gifs/img_2.gif) | ![](outputs/1/roi_head_outputs/gifs/img_3.gif) |\n"
   ]
  },
  {
   "cell_type": "code",
   "execution_count": null,
   "metadata": {},
   "outputs": [],
   "source": []
  },
  {
   "cell_type": "code",
   "execution_count": null,
   "metadata": {},
   "outputs": [],
   "source": []
  },
  {
   "cell_type": "markdown",
   "metadata": {},
   "source": []
  }
 ],
 "metadata": {
  "kernelspec": {
   "display_name": "cv",
   "language": "python",
   "name": "python3"
  },
  "language_info": {
   "codemirror_mode": {
    "name": "ipython",
    "version": 3
   },
   "file_extension": ".py",
   "mimetype": "text/x-python",
   "name": "python",
   "nbconvert_exporter": "python",
   "pygments_lexer": "ipython3",
   "version": "3.11.11"
  }
 },
 "nbformat": 4,
 "nbformat_minor": 2
}
